{
 "cells": [
  {
   "cell_type": "markdown",
   "id": "f066be16",
   "metadata": {},
   "source": [
    "This script simulates choosing prize doors on a game show where there is a best, mid, and worst prize. The function generate_door_choices() randomly assings each door (1 , 2, and 3) as the best, mid, or worst prize. It simiulates the player randomly making an initial choice and one of the non-choosen doors is revealed (i.e elmininated). It then randomly chooses between the remaining two doors. In other words, sometimes the player switches doors before the final reveal. The simulation is ran 10,000 times."
   ]
  },
  {
   "cell_type": "code",
   "execution_count": 1,
   "id": "db4146f6",
   "metadata": {},
   "outputs": [],
   "source": [
    "import random as rnd\n",
    "import pandas as pd\n",
    "\n",
    "\n",
    "def generate_door_choices():\n",
    "# setting rank of each door\n",
    "    doors = [1,2,3]\n",
    "    best = rnd.randrange(1,4,1)\n",
    "    doors.remove(best)\n",
    "    worst = rnd.choice(doors)\n",
    "    \n",
    "\n",
    "    if doors.index(worst) == 0:\n",
    "        mid = doors[1]\n",
    "    else:\n",
    "        mid = doors[0]\n",
    "        \n",
    "#The ranking_dict keeps track of how prize doors 1,2, and 3 were ranked       \n",
    "        \n",
    "    ranking_dict = {\n",
    "        best : \"best\",\n",
    "        mid : \"mid\",\n",
    "        worst : \"worst\"\n",
    "        }\n",
    "    \n",
    "    \n",
    "#simulating first round of choosing a door\n",
    "# and simulating eliminating a door i.e revealing one of the non-choosen doors\n",
    "        \n",
    "\n",
    "    your_first_choice = rnd.randrange(1,4,1)\n",
    "    \n",
    "    eliminate = rnd.randrange(1,4,1)\n",
    "    while eliminate == your_first_choice:\n",
    "        eliminate = rnd.randrange(1,4,1)\n",
    "\n",
    "    doors = [1,2,3]\n",
    "    doors.remove(eliminate)\n",
    "  \n",
    "#simulating a random 2nd choice\n",
    "    your_second_choice = rnd.choice(doors)\n",
    "    if your_second_choice == your_first_choice:\n",
    "        switch = \"no\"\n",
    "    else:\n",
    "        switch = \"yes\"\n",
    "        \n",
    "    return [ranking_dict[your_first_choice],ranking_dict[eliminate],ranking_dict[your_second_choice], switch]\n",
    "    \n"
   ]
  },
  {
   "cell_type": "markdown",
   "id": "1d4050be",
   "metadata": {},
   "source": [
    "A data frame is created to hold the simulated results"
   ]
  },
  {
   "cell_type": "code",
   "execution_count": 2,
   "id": "24204bea",
   "metadata": {},
   "outputs": [],
   "source": [
    "tenthousand = pd.DataFrame(columns = [\"first_choice\",\"eliminated\",\"second_choice\",\"switch\"])\n",
    "\n",
    "\n",
    "\n",
    "for i in range(0,9999):\n",
    "    tenthousand.loc[i] = generate_door_choices()\n",
    "\n",
    "switch_10000 = tenthousand[tenthousand[\"switch\"] == \"yes\"]\n",
    "remain_10000 = tenthousand[tenthousand[\"switch\"] == \"no\"]\n",
    "\n",
    "\n",
    "\n",
    "\n"
   ]
  },
  {
   "cell_type": "code",
   "execution_count": 10,
   "id": "49568ffb",
   "metadata": {},
   "outputs": [
    {
     "data": {
      "text/html": [
       "<div>\n",
       "<style scoped>\n",
       "    .dataframe tbody tr th:only-of-type {\n",
       "        vertical-align: middle;\n",
       "    }\n",
       "\n",
       "    .dataframe tbody tr th {\n",
       "        vertical-align: top;\n",
       "    }\n",
       "\n",
       "    .dataframe thead th {\n",
       "        text-align: right;\n",
       "    }\n",
       "</style>\n",
       "<table border=\"1\" class=\"dataframe\">\n",
       "  <thead>\n",
       "    <tr style=\"text-align: right;\">\n",
       "      <th></th>\n",
       "      <th>first_choice</th>\n",
       "      <th>eliminated</th>\n",
       "      <th>second_choice</th>\n",
       "      <th>switch</th>\n",
       "    </tr>\n",
       "  </thead>\n",
       "  <tbody>\n",
       "    <tr>\n",
       "      <th>1</th>\n",
       "      <td>best</td>\n",
       "      <td>mid</td>\n",
       "      <td>worst</td>\n",
       "      <td>yes</td>\n",
       "    </tr>\n",
       "    <tr>\n",
       "      <th>5</th>\n",
       "      <td>mid</td>\n",
       "      <td>best</td>\n",
       "      <td>worst</td>\n",
       "      <td>yes</td>\n",
       "    </tr>\n",
       "    <tr>\n",
       "      <th>6</th>\n",
       "      <td>mid</td>\n",
       "      <td>worst</td>\n",
       "      <td>best</td>\n",
       "      <td>yes</td>\n",
       "    </tr>\n",
       "    <tr>\n",
       "      <th>8</th>\n",
       "      <td>worst</td>\n",
       "      <td>best</td>\n",
       "      <td>mid</td>\n",
       "      <td>yes</td>\n",
       "    </tr>\n",
       "    <tr>\n",
       "      <th>9</th>\n",
       "      <td>best</td>\n",
       "      <td>worst</td>\n",
       "      <td>mid</td>\n",
       "      <td>yes</td>\n",
       "    </tr>\n",
       "    <tr>\n",
       "      <th>10</th>\n",
       "      <td>worst</td>\n",
       "      <td>best</td>\n",
       "      <td>mid</td>\n",
       "      <td>yes</td>\n",
       "    </tr>\n",
       "    <tr>\n",
       "      <th>11</th>\n",
       "      <td>best</td>\n",
       "      <td>mid</td>\n",
       "      <td>worst</td>\n",
       "      <td>yes</td>\n",
       "    </tr>\n",
       "    <tr>\n",
       "      <th>13</th>\n",
       "      <td>best</td>\n",
       "      <td>mid</td>\n",
       "      <td>worst</td>\n",
       "      <td>yes</td>\n",
       "    </tr>\n",
       "    <tr>\n",
       "      <th>15</th>\n",
       "      <td>mid</td>\n",
       "      <td>worst</td>\n",
       "      <td>best</td>\n",
       "      <td>yes</td>\n",
       "    </tr>\n",
       "    <tr>\n",
       "      <th>16</th>\n",
       "      <td>mid</td>\n",
       "      <td>best</td>\n",
       "      <td>worst</td>\n",
       "      <td>yes</td>\n",
       "    </tr>\n",
       "  </tbody>\n",
       "</table>\n",
       "</div>"
      ],
      "text/plain": [
       "   first_choice eliminated second_choice switch\n",
       "1          best        mid         worst    yes\n",
       "5           mid       best         worst    yes\n",
       "6           mid      worst          best    yes\n",
       "8         worst       best           mid    yes\n",
       "9          best      worst           mid    yes\n",
       "10        worst       best           mid    yes\n",
       "11         best        mid         worst    yes\n",
       "13         best        mid         worst    yes\n",
       "15          mid      worst          best    yes\n",
       "16          mid       best         worst    yes"
      ]
     },
     "execution_count": 10,
     "metadata": {},
     "output_type": "execute_result"
    }
   ],
   "source": [
    "#show first 10 of the switch subset\n",
    "switch_10000.head(10)"
   ]
  },
  {
   "cell_type": "code",
   "execution_count": 9,
   "id": "3b8a7897",
   "metadata": {},
   "outputs": [
    {
     "data": {
      "text/html": [
       "<div>\n",
       "<style scoped>\n",
       "    .dataframe tbody tr th:only-of-type {\n",
       "        vertical-align: middle;\n",
       "    }\n",
       "\n",
       "    .dataframe tbody tr th {\n",
       "        vertical-align: top;\n",
       "    }\n",
       "\n",
       "    .dataframe thead th {\n",
       "        text-align: right;\n",
       "    }\n",
       "</style>\n",
       "<table border=\"1\" class=\"dataframe\">\n",
       "  <thead>\n",
       "    <tr style=\"text-align: right;\">\n",
       "      <th></th>\n",
       "      <th>first_choice</th>\n",
       "      <th>eliminated</th>\n",
       "      <th>second_choice</th>\n",
       "      <th>switch</th>\n",
       "    </tr>\n",
       "  </thead>\n",
       "  <tbody>\n",
       "    <tr>\n",
       "      <th>0</th>\n",
       "      <td>worst</td>\n",
       "      <td>mid</td>\n",
       "      <td>worst</td>\n",
       "      <td>no</td>\n",
       "    </tr>\n",
       "    <tr>\n",
       "      <th>2</th>\n",
       "      <td>best</td>\n",
       "      <td>worst</td>\n",
       "      <td>best</td>\n",
       "      <td>no</td>\n",
       "    </tr>\n",
       "    <tr>\n",
       "      <th>3</th>\n",
       "      <td>best</td>\n",
       "      <td>worst</td>\n",
       "      <td>best</td>\n",
       "      <td>no</td>\n",
       "    </tr>\n",
       "    <tr>\n",
       "      <th>4</th>\n",
       "      <td>best</td>\n",
       "      <td>mid</td>\n",
       "      <td>best</td>\n",
       "      <td>no</td>\n",
       "    </tr>\n",
       "    <tr>\n",
       "      <th>7</th>\n",
       "      <td>worst</td>\n",
       "      <td>mid</td>\n",
       "      <td>worst</td>\n",
       "      <td>no</td>\n",
       "    </tr>\n",
       "    <tr>\n",
       "      <th>12</th>\n",
       "      <td>mid</td>\n",
       "      <td>best</td>\n",
       "      <td>mid</td>\n",
       "      <td>no</td>\n",
       "    </tr>\n",
       "    <tr>\n",
       "      <th>14</th>\n",
       "      <td>mid</td>\n",
       "      <td>best</td>\n",
       "      <td>mid</td>\n",
       "      <td>no</td>\n",
       "    </tr>\n",
       "    <tr>\n",
       "      <th>17</th>\n",
       "      <td>worst</td>\n",
       "      <td>best</td>\n",
       "      <td>worst</td>\n",
       "      <td>no</td>\n",
       "    </tr>\n",
       "    <tr>\n",
       "      <th>19</th>\n",
       "      <td>mid</td>\n",
       "      <td>best</td>\n",
       "      <td>mid</td>\n",
       "      <td>no</td>\n",
       "    </tr>\n",
       "    <tr>\n",
       "      <th>20</th>\n",
       "      <td>best</td>\n",
       "      <td>worst</td>\n",
       "      <td>best</td>\n",
       "      <td>no</td>\n",
       "    </tr>\n",
       "  </tbody>\n",
       "</table>\n",
       "</div>"
      ],
      "text/plain": [
       "   first_choice eliminated second_choice switch\n",
       "0         worst        mid         worst     no\n",
       "2          best      worst          best     no\n",
       "3          best      worst          best     no\n",
       "4          best        mid          best     no\n",
       "7         worst        mid         worst     no\n",
       "12          mid       best           mid     no\n",
       "14          mid       best           mid     no\n",
       "17        worst       best         worst     no\n",
       "19          mid       best           mid     no\n",
       "20         best      worst          best     no"
      ]
     },
     "execution_count": 9,
     "metadata": {},
     "output_type": "execute_result"
    }
   ],
   "source": [
    "#show first 10 of the remain subset\n",
    "remain_10000.head(10)"
   ]
  },
  {
   "cell_type": "markdown",
   "id": "4790100f",
   "metadata": {},
   "source": [
    "Functions are created to find the portion of times a switch lead to a better prize, a switch lead to the best prize given the best prize was not eliminated, and reaminig lead to the best prize given the best prize was not elminated. "
   ]
  },
  {
   "cell_type": "code",
   "execution_count": 3,
   "id": "7e7e66f3",
   "metadata": {},
   "outputs": [],
   "source": [
    "\n",
    "def switch_was_good(df_switch):\n",
    "    df_good_switch = len(df_switch.query(\"second_choice == 'best'\")) + len(df_switch.query(\"first_choice == 'worst' and second_choice == 'mid'\"))\n",
    "    return(df_good_switch/len(df_switch))\n",
    "\n",
    "def ending_with_best_on_switch(df_switch):\n",
    "#ONLY COUNTS IF BEST NOT ELIMINATED\n",
    "    df_best_remains_and_switch = df_switch.query(\"eliminated != 'best'\")\n",
    "    return(len(df_best_remains_and_switch.query(\"second_choice == 'best'\"))/len(df_best_remains_and_switch))\n",
    "\n",
    "def ending_with_best_on_remain(df_remain):\n",
    "#ONLY COUNTS IF BEST NOT ELIMINATED\n",
    "    df_best_remains_and_remain = df_remain.query(\"eliminated != 'best'\")\n",
    "    return(len(df_best_remains_and_remain.query(\"second_choice == 'best'\"))/len(df_best_remains_and_remain))\n"
   ]
  },
  {
   "cell_type": "code",
   "execution_count": 4,
   "id": "4fb1f22c",
   "metadata": {},
   "outputs": [
    {
     "name": "stdout",
     "output_type": "stream",
     "text": [
      "The switch lead to a better prize at a rate of :  0.4985 , which implies remaining whould have been better at a rate of:  0.5015\n"
     ]
    }
   ],
   "source": [
    "switch_good_val = round(switch_was_good(switch_10000),4)\n",
    "print( \"The switch lead to a better prize at a rate of : \" , switch_good_val , \", which implies remaining whould have been better at a rate of: \", round(1 - switch_good_val,4) )"
   ]
  },
  {
   "cell_type": "code",
   "execution_count": 5,
   "id": "def0d3b9",
   "metadata": {},
   "outputs": [
    {
     "name": "stdout",
     "output_type": "stream",
     "text": [
      "switched and ended with best prize given the best prize was not eliminated:  0.5002\n"
     ]
    }
   ],
   "source": [
    "print(\"switched and ended with best prize given the best prize was not eliminated: \",round( ending_with_best_on_switch(switch_10000), 4))"
   ]
  },
  {
   "cell_type": "code",
   "execution_count": 7,
   "id": "a94bcb17",
   "metadata": {},
   "outputs": [
    {
     "name": "stdout",
     "output_type": "stream",
     "text": [
      "remained with first pick and ended with the best prize given the best prize was not eliminated  0.5041\n"
     ]
    }
   ],
   "source": [
    "print(\"remained with first pick and ended with the best prize given the best prize was not eliminated \", round( ending_with_best_on_remain(remain_10000),4))"
   ]
  },
  {
   "cell_type": "markdown",
   "id": "048051de",
   "metadata": {},
   "source": [
    "This shows switching does not increase the probability of making a better choice or ending with the best prize. The second round of choosing is still a coin flip because all you know is one door has a better prize."
   ]
  },
  {
   "cell_type": "markdown",
   "id": "7baac034",
   "metadata": {},
   "source": [
    "Note: The last two rates ( ending_with_best_on_switch and ending_with_best_on_remain) belong to different subsets so they are not compliments i.e the rates do not need to add to 1. "
   ]
  }
 ],
 "metadata": {
  "kernelspec": {
   "display_name": "Python 3 (ipykernel)",
   "language": "python",
   "name": "python3"
  },
  "language_info": {
   "codemirror_mode": {
    "name": "ipython",
    "version": 3
   },
   "file_extension": ".py",
   "mimetype": "text/x-python",
   "name": "python",
   "nbconvert_exporter": "python",
   "pygments_lexer": "ipython3",
   "version": "3.7.11"
  }
 },
 "nbformat": 4,
 "nbformat_minor": 5
}
